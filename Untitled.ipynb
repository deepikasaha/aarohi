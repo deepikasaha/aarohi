{
 "cells": [
  {
   "cell_type": "code",
   "execution_count": 1,
   "id": "d1a0bbbd",
   "metadata": {},
   "outputs": [
    {
     "data": {
      "text/plain": [
       "5"
      ]
     },
     "execution_count": 1,
     "metadata": {},
     "output_type": "execute_result"
    }
   ],
   "source": [
    "2+3"
   ]
  },
  {
   "cell_type": "code",
   "execution_count": 3,
   "id": "1073bb01",
   "metadata": {},
   "outputs": [
    {
     "data": {
      "text/plain": [
       "\"father's name\""
      ]
     },
     "execution_count": 3,
     "metadata": {},
     "output_type": "execute_result"
    }
   ],
   "source": [
    "(\"father's name\")"
   ]
  },
  {
   "cell_type": "code",
   "execution_count": 5,
   "id": "06b7caef",
   "metadata": {},
   "outputs": [
    {
     "data": {
      "text/plain": [
       "\"father's name\""
      ]
     },
     "execution_count": 5,
     "metadata": {},
     "output_type": "execute_result"
    }
   ],
   "source": [
    "\"father's\" + \" name\" #concatenation"
   ]
  },
  {
   "cell_type": "code",
   "execution_count": null,
   "id": "2deb1317",
   "metadata": {},
   "outputs": [],
   "source": []
  }
 ],
 "metadata": {
  "kernelspec": {
   "display_name": "Python 3 (ipykernel)",
   "language": "python",
   "name": "python3"
  },
  "language_info": {
   "codemirror_mode": {
    "name": "ipython",
    "version": 3
   },
   "file_extension": ".py",
   "mimetype": "text/x-python",
   "name": "python",
   "nbconvert_exporter": "python",
   "pygments_lexer": "ipython3",
   "version": "3.9.7"
  }
 },
 "nbformat": 4,
 "nbformat_minor": 5
}
